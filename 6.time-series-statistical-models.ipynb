{
 "cells": [
  {
   "cell_type": "code",
   "execution_count": null,
   "id": "8578a17a",
   "metadata": {},
   "outputs": [],
   "source": [
    "%load_ext autoreload\n",
    "%autoreload 2"
   ]
  },
  {
   "cell_type": "code",
   "execution_count": null,
   "id": "d36c58e5",
   "metadata": {},
   "outputs": [],
   "source": [
    "from functools import partial\n",
    "import polars as pl\n",
    "\n",
    "import pandas as pd\n",
    "import numpy as np\n",
    "import matplotlib.pyplot as plt\n",
    "from statsforecast import StatsForecast\n",
    "from statsforecast.models import (\n",
    "    AutoARIMA,\n",
    "    AutoTheta,\n",
    "    DynamicTheta,\n",
    "    DynamicOptimizedTheta,\n",
    "    Theta,\n",
    "    OptimizedTheta,\n",
    "    TBATS,\n",
    "    AutoTBATS,\n",
    "    MSTL,\n",
    ")\n",
    "from statsmodels.stats.diagnostic import acorr_ljungbox\n",
    "import plotly.graph_objects as go\n",
    "import plotly.express as px\n",
    "import plotly.io as pio\n",
    "\n",
    "from utilsforecast.evaluation import evaluate\n",
    "from utilsforecast.losses import rmse, mae, mape, mase, mse, smape\n",
    "from plotting_utils import (\n",
    "    plotly_series as plot_series,\n",
    "    plot_residuals_diagnostic,\n",
    "    plot_real_data_vs_insample_forecast,\n",
    ")\n",
    "from summary_utils import (\n",
    "    print_arima_fitted_summary,\n",
    "    print_regression_summary_from_model,\n",
    "    get_fitted_residuals,\n",
    ")\n",
    "\n",
    "from prophet import Prophet\n",
    "\n",
    "from sklearn.linear_model import LinearRegression\n",
    "from sklearn.metrics import r2_score\n",
    "\n",
    "from mlforecast import MLForecast\n",
    "from mlforecast.utils import PredictionIntervals\n",
    "\n",
    "from utilsforecast.feature_engineering import fourier, pipeline\n",
    "from scipy import stats"
   ]
  },
  {
   "cell_type": "code",
   "execution_count": null,
   "id": "9ded1fc3",
   "metadata": {},
   "outputs": [],
   "source": [
    "data = pl.read_parquet(\n",
    "    \"data/london_smart_meters/preprocessed/london_smart_meters_merged_block_0-7.parquet\"\n",
    ")\n",
    "timestamp = data.group_by(\"LCLid\").agg(\n",
    "    pl.datetime_range(\n",
    "        start=pl.col(\"start_timestamp\"),\n",
    "        end=pl.col(\"start_timestamp\").dt.offset_by(\n",
    "            pl.format(\"{}m\", pl.col(\"series_length\").sub(1).mul(30))\n",
    "        ),\n",
    "        interval=\"30m\",\n",
    "    ).alias(\"ds\"),\n",
    ")\n",
    "data = timestamp.join(data, on=\"LCLid\", how=\"inner\").rename(\n",
    "    {\"LCLid\": \"unique_id\", \"energy_consumption\": \"y\"}\n",
    ")\n",
    "data.head(5)"
   ]
  },
  {
   "cell_type": "code",
   "execution_count": null,
   "id": "1cf22c4b",
   "metadata": {},
   "outputs": [],
   "source": [
    "id_ = \"unique_id\"\n",
    "time_ = \"ds\"\n",
    "target_ = \"y\"\n",
    "id_col = pl.col(id_)\n",
    "time_col = pl.col(time_)\n",
    "target_col = pl.col(target_)"
   ]
  },
  {
   "cell_type": "code",
   "execution_count": null,
   "id": "c7f041ca",
   "metadata": {},
   "outputs": [],
   "source": [
    "data = (\n",
    "    data.filter(pl.col(\"file\").eq(\"block_7\"))\n",
    "    .select(\n",
    "        [\n",
    "            time_,\n",
    "            id_,\n",
    "            target_,\n",
    "            \"Acorn\",\n",
    "            \"Acorn_grouped\",\n",
    "            \"holidays\",\n",
    "            \"visibility\",\n",
    "            \"windBearing\",\n",
    "            \"temperature\",\n",
    "            \"dewPoint\",\n",
    "            \"pressure\",\n",
    "            \"apparentTemperature\",\n",
    "            \"windSpeed\",\n",
    "            \"precipType\",\n",
    "            \"icon\",\n",
    "            \"humidity\",\n",
    "            \"summary\",\n",
    "        ]\n",
    "    )\n",
    "    .explode(\n",
    "        [\n",
    "            time_,\n",
    "            target_,\n",
    "            \"holidays\",\n",
    "            \"visibility\",\n",
    "            \"windBearing\",\n",
    "            \"temperature\",\n",
    "            \"dewPoint\",\n",
    "            \"pressure\",\n",
    "            \"apparentTemperature\",\n",
    "            \"windSpeed\",\n",
    "            \"precipType\",\n",
    "            \"icon\",\n",
    "            \"humidity\",\n",
    "            \"summary\",\n",
    "        ]\n",
    "    )\n",
    ")\n",
    "data.head()"
   ]
  },
  {
   "cell_type": "code",
   "execution_count": null,
   "id": "aee23d88",
   "metadata": {},
   "outputs": [],
   "source": [
    "selected_id = \"MAC000193\"\n",
    "data = data.filter(id_col.eq(selected_id)).with_columns(\n",
    "    target_col.forward_fill().backward_fill()\n",
    ")\n",
    "data.head()"
   ]
  },
  {
   "cell_type": "code",
   "execution_count": null,
   "id": "713888f8",
   "metadata": {},
   "outputs": [],
   "source": [
    "sf = StatsForecast(\n",
    "    models=[\n",
    "        Theta(season_length=48, decomposition_type=\"additive\"),\n",
    "        TBATS(season_length=[48, 48 * 7, 48 * 365]),\n",
    "        MSTL(season_length=[48, 48 * 7, 48 * 365]),\n",
    "    ],\n",
    "    freq=\"30m\",\n",
    ")"
   ]
  },
  {
   "cell_type": "code",
   "execution_count": null,
   "id": "752a61e3",
   "metadata": {},
   "outputs": [],
   "source": [
    "y_hat = sf.cross_validation(\n",
    "    df=data.select([id_, time_, target_]),\n",
    "    h=48 * 7,\n",
    "    step_size=1,\n",
    "    n_windows=1,\n",
    ").drop(\"cutoff\")"
   ]
  },
  {
   "cell_type": "code",
   "execution_count": null,
   "id": "ed639f9a",
   "metadata": {},
   "outputs": [],
   "source": [
    "from functools import partial\n",
    "\n",
    "metrics = [\n",
    "    mae,\n",
    "    mse,\n",
    "    rmse,\n",
    "    mape,\n",
    "    smape,\n",
    "    partial(mase, seasonality=48),\n",
    "]\n",
    "evaluate(\n",
    "    y_hat,\n",
    "    metrics=metrics,\n",
    "    train_df=data.select([id_, time_, target_]),\n",
    ")"
   ]
  },
  {
   "cell_type": "code",
   "execution_count": null,
   "id": "67b4c9cb",
   "metadata": {},
   "outputs": [],
   "source": [
    "plot_series(data, y_hat, max_insample_length=200)"
   ]
  }
 ],
 "metadata": {
  "kernelspec": {
   "display_name": ".venv",
   "language": "python",
   "name": "python3"
  },
  "language_info": {
   "codemirror_mode": {
    "name": "ipython",
    "version": 3
   },
   "file_extension": ".py",
   "mimetype": "text/x-python",
   "name": "python",
   "nbconvert_exporter": "python",
   "pygments_lexer": "ipython3",
   "version": "3.12.8"
  }
 },
 "nbformat": 4,
 "nbformat_minor": 5
}
