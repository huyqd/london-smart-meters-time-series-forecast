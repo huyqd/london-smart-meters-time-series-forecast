{
 "cells": [
  {
   "cell_type": "code",
   "execution_count": null,
   "id": "a0207ee4",
   "metadata": {},
   "outputs": [],
   "source": [
    "%load_ext autoreload\n",
    "%autoreload 2"
   ]
  },
  {
   "cell_type": "code",
   "execution_count": null,
   "id": "579ee495",
   "metadata": {},
   "outputs": [],
   "source": [
    "from functools import partial\n",
    "import polars as pl\n",
    "\n",
    "import pandas as pd\n",
    "import numpy as np\n",
    "import matplotlib.pyplot as plt\n",
    "from statsforecast import StatsForecast\n",
    "from statsforecast.models import MSTL, AutoARIMA\n",
    "from statsmodels.stats.diagnostic import acorr_ljungbox\n",
    "import plotly.graph_objects as go\n",
    "import plotly.express as px\n",
    "import plotly.io as pio\n",
    "\n",
    "from utilsforecast.evaluation import evaluate\n",
    "from utilsforecast.losses import rmse, mae, mape, mase, mse, smape\n",
    "from plotting_utils import (\n",
    "    plotly_series as plot_series,\n",
    "    plot_residuals_diagnostic,\n",
    "    plot_real_data_vs_insample_forecast,\n",
    ")\n",
    "from summary_utils import (\n",
    "    print_arima_fitted_summary,\n",
    "    print_regression_summary_from_model,\n",
    "    get_fitted_residuals,\n",
    ")\n",
    "\n",
    "from prophet import Prophet\n",
    "\n",
    "from sklearn.linear_model import LinearRegression\n",
    "from sklearn.metrics import r2_score\n",
    "\n",
    "from mlforecast import MLForecast\n",
    "from mlforecast.utils import PredictionIntervals\n",
    "\n",
    "from utilsforecast.feature_engineering import fourier, pipeline\n",
    "from scipy import stats"
   ]
  },
  {
   "cell_type": "code",
   "execution_count": null,
   "id": "2383b791",
   "metadata": {},
   "outputs": [],
   "source": [
    "pio.templates.default = \"plotly_white\""
   ]
  },
  {
   "cell_type": "code",
   "execution_count": null,
   "id": "63542e05",
   "metadata": {},
   "outputs": [],
   "source": [
    "metrics = [\n",
    "    mae,\n",
    "    mse,\n",
    "    rmse,\n",
    "    mape,\n",
    "    smape,\n",
    "    partial(mase, seasonality=48),\n",
    "]"
   ]
  },
  {
   "cell_type": "code",
   "execution_count": null,
   "id": "9ded1fc3",
   "metadata": {},
   "outputs": [],
   "source": [
    "data = pl.read_parquet(\n",
    "    \"data/london_smart_meters/preprocessed/london_smart_meters_merged_block_0-7.parquet\"\n",
    ")\n",
    "timestamp = data.group_by(\"LCLid\").agg(\n",
    "    pl.datetime_range(\n",
    "        start=pl.col(\"start_timestamp\"),\n",
    "        end=pl.col(\"start_timestamp\").dt.offset_by(\n",
    "            pl.format(\"{}m\", pl.col(\"series_length\").sub(1).mul(30))\n",
    "        ),\n",
    "        interval=\"30m\",\n",
    "    ).alias(\"ds\"),\n",
    ")\n",
    "data = timestamp.join(data, on=\"LCLid\", how=\"inner\").rename(\n",
    "    {\"LCLid\": \"unique_id\", \"energy_consumption\": \"y\"}\n",
    ")\n",
    "data.head(5)"
   ]
  },
  {
   "cell_type": "code",
   "execution_count": null,
   "id": "1cf22c4b",
   "metadata": {},
   "outputs": [],
   "source": [
    "id_ = \"unique_id\"\n",
    "time_ = \"ds\"\n",
    "target_ = \"y\"\n",
    "temp_ = \"temperature\"\n",
    "id_col = pl.col(id_)\n",
    "time_col = pl.col(time_)\n",
    "target_col = pl.col(target_)\n",
    "temp_col = pl.col(temp_)"
   ]
  },
  {
   "cell_type": "code",
   "execution_count": null,
   "id": "c7f041ca",
   "metadata": {},
   "outputs": [],
   "source": [
    "data = (\n",
    "    data.filter(pl.col(\"file\").eq(\"block_7\"))\n",
    "    .select(\n",
    "        [\n",
    "            time_,\n",
    "            id_,\n",
    "            target_,\n",
    "            \"Acorn\",\n",
    "            \"Acorn_grouped\",\n",
    "            \"holidays\",\n",
    "            \"visibility\",\n",
    "            \"windBearing\",\n",
    "            \"temperature\",\n",
    "            \"dewPoint\",\n",
    "            \"pressure\",\n",
    "            \"apparentTemperature\",\n",
    "            \"windSpeed\",\n",
    "            \"precipType\",\n",
    "            \"icon\",\n",
    "            \"humidity\",\n",
    "            \"summary\",\n",
    "        ]\n",
    "    )\n",
    "    .explode(\n",
    "        [\n",
    "            time_,\n",
    "            target_,\n",
    "            \"holidays\",\n",
    "            \"visibility\",\n",
    "            \"windBearing\",\n",
    "            \"temperature\",\n",
    "            \"dewPoint\",\n",
    "            \"pressure\",\n",
    "            \"apparentTemperature\",\n",
    "            \"windSpeed\",\n",
    "            \"precipType\",\n",
    "            \"icon\",\n",
    "            \"humidity\",\n",
    "            \"summary\",\n",
    "        ]\n",
    "    )\n",
    ")\n",
    "data.head()"
   ]
  },
  {
   "cell_type": "code",
   "execution_count": null,
   "id": "aee23d88",
   "metadata": {},
   "outputs": [],
   "source": [
    "selected_id = \"MAC000193\"\n",
    "data = (\n",
    "    data.filter(id_col.eq(selected_id))\n",
    "    .with_columns(target_col.forward_fill().backward_fill())\n",
    "    .select([time_, id_, target_, temp_])\n",
    ")\n",
    "data.head()"
   ]
  },
  {
   "cell_type": "code",
   "execution_count": null,
   "id": "92745cd7",
   "metadata": {},
   "outputs": [],
   "source": [
    "plot_series(data)"
   ]
  },
  {
   "cell_type": "code",
   "execution_count": null,
   "id": "6bd6dc35",
   "metadata": {},
   "outputs": [],
   "source": [
    "plot_series(data, target_col=temp_)"
   ]
  },
  {
   "cell_type": "code",
   "execution_count": null,
   "id": "8d60c574",
   "metadata": {},
   "outputs": [],
   "source": [
    "px.scatter(\n",
    "    data,\n",
    "    y=target_,\n",
    "    x=temp_,\n",
    "    title=\"Temperature\",\n",
    ")"
   ]
  },
  {
   "cell_type": "code",
   "execution_count": null,
   "id": "fe7c5c44",
   "metadata": {},
   "outputs": [],
   "source": [
    "mf = MLForecast(models=LinearRegression(), freq=\"30min\")\n",
    "\n",
    "# Fit model\n",
    "mf.fit(data, fitted=True, static_features=[])"
   ]
  },
  {
   "cell_type": "code",
   "execution_count": null,
   "id": "7df0cc20",
   "metadata": {},
   "outputs": [],
   "source": [
    "model = mf.models_[\"LinearRegression\"]\n",
    "insample_forecasts = mf.forecast_fitted_values()\n",
    "X = data.select(model.feature_names_in_).to_pandas()\n",
    "y = data.get_column(target_).to_pandas()"
   ]
  },
  {
   "cell_type": "code",
   "execution_count": null,
   "id": "961e5298",
   "metadata": {},
   "outputs": [],
   "source": [
    "print_regression_summary_from_model(model, X, y)"
   ]
  },
  {
   "cell_type": "code",
   "execution_count": null,
   "id": "cdb3c79b",
   "metadata": {},
   "outputs": [],
   "source": [
    "plot_series(data, insample_forecasts.drop(\"y\"))"
   ]
  },
  {
   "cell_type": "code",
   "execution_count": null,
   "id": "1d269ec7",
   "metadata": {},
   "outputs": [],
   "source": [
    "px.scatter(\n",
    "    x=insample_forecasts.get_column(\"y\"),\n",
    "    y=insample_forecasts.get_column(\"LinearRegression\"),\n",
    ").update_traces(marker=dict(size=5)).update_layout(\n",
    "    title=\"Real vs In-sample forecast\",\n",
    "    xaxis_title=\"Real\",\n",
    "    yaxis_title=\"In-sample forecast\",\n",
    ")"
   ]
  },
  {
   "cell_type": "code",
   "execution_count": null,
   "id": "3f02f0fb",
   "metadata": {},
   "outputs": [],
   "source": [
    "residuals = get_fitted_residuals(mf)\n",
    "residuals = residuals.get_column(\"LinearRegression\")\n",
    "ds = data.get_column(time_)\n",
    "plot_residuals_diagnostic(\n",
    "    residuals=residuals,\n",
    "    time=ds,\n",
    ")"
   ]
  },
  {
   "cell_type": "code",
   "execution_count": null,
   "id": "d4fd38ad",
   "metadata": {},
   "outputs": [],
   "source": [
    "acorr_ljungbox(residuals, lags=[10])"
   ]
  },
  {
   "cell_type": "code",
   "execution_count": null,
   "id": "de54aea8",
   "metadata": {},
   "outputs": [],
   "source": [
    "fig = px.scatter(x=data.get_column(temp_), y=residuals)\n",
    "fig.update_layout(\n",
    "    title=\"Scatter Plot of Residuals vs Temperature\",\n",
    "    xaxis_title=\"Temperature\",\n",
    "    yaxis_title=\"Residuals\",\n",
    "    template=\"plotly_white\",\n",
    "    width=800,\n",
    "    height=600,\n",
    "    showlegend=False,\n",
    ")\n",
    "fig.show()"
   ]
  },
  {
   "cell_type": "code",
   "execution_count": null,
   "id": "23bbf626",
   "metadata": {},
   "outputs": [],
   "source": [
    "fig = px.scatter(x=insample_forecasts.get_column(\"LinearRegression\"), y=residuals)\n",
    "fig.update_layout(\n",
    "    title=\"Scatter Plot of Residuals vs Fitted Values\",\n",
    "    xaxis_title=\"Fitted Values\",\n",
    "    yaxis_title=\"Residuals\",\n",
    "    template=\"plotly_white\",\n",
    "    width=800,\n",
    "    height=600,\n",
    "    showlegend=False,\n",
    ")\n",
    "fig.show()"
   ]
  },
  {
   "cell_type": "code",
   "execution_count": null,
   "id": "67b4c9cb",
   "metadata": {},
   "outputs": [],
   "source": [
    "evaluate(\n",
    "    insample_forecasts,\n",
    "    metrics=metrics,\n",
    "    train_df=data.select([id_, time_, target_]),\n",
    ")"
   ]
  },
  {
   "cell_type": "code",
   "execution_count": null,
   "id": "2a71025c",
   "metadata": {},
   "outputs": [],
   "source": [
    "y_hat = mf.cross_validation(\n",
    "    df=data.select([id_, time_, target_, temp_]).to_pandas(),\n",
    "    h=48 * 7,\n",
    "    step_size=1,\n",
    "    n_windows=1,\n",
    "    fitted=True,\n",
    "    static_features=[],\n",
    ").drop(columns=[\"cutoff\"])"
   ]
  },
  {
   "cell_type": "code",
   "execution_count": null,
   "id": "d938e23c",
   "metadata": {},
   "outputs": [],
   "source": [
    "evaluate(\n",
    "    pl.from_pandas(y_hat),\n",
    "    metrics=metrics,\n",
    "    train_df=data.select([id_, time_, target_]),\n",
    ")"
   ]
  },
  {
   "cell_type": "code",
   "execution_count": null,
   "id": "9713a304",
   "metadata": {},
   "outputs": [],
   "source": [
    "plot_series(data, pl.from_pandas(y_hat), max_insample_length=48 * 7)"
   ]
  },
  {
   "cell_type": "code",
   "execution_count": null,
   "id": "8d5f27dd",
   "metadata": {},
   "outputs": [],
   "source": [
    "features = [\n",
    "    partial(fourier, season_length=2 * 24, k=10),\n",
    "    partial(fourier, season_length=2 * 24 * 7, k=5),\n",
    "    partial(fourier, season_length=2 * 24 * 7 * 365, k=3),\n",
    "]\n",
    "data_fourier, data_futr_fourier = pipeline(\n",
    "    data,\n",
    "    features=features,\n",
    "    freq=\"30m\",\n",
    "    h=48 * 7,\n",
    ")"
   ]
  },
  {
   "cell_type": "code",
   "execution_count": null,
   "id": "2087fd1b",
   "metadata": {},
   "outputs": [],
   "source": [
    "data_fourier"
   ]
  },
  {
   "cell_type": "code",
   "execution_count": null,
   "id": "93e5851b",
   "metadata": {},
   "outputs": [],
   "source": [
    "mf.fit(data_fourier, fitted=True, static_features=[])"
   ]
  },
  {
   "cell_type": "code",
   "execution_count": null,
   "id": "739ca134",
   "metadata": {},
   "outputs": [],
   "source": [
    "model = mf.models_[\"LinearRegression\"]\n",
    "insample_forecasts = mf.forecast_fitted_values()\n",
    "X = data_fourier.select(model.feature_names_in_).to_pandas()\n",
    "y = data_fourier.get_column(target_).to_pandas()"
   ]
  },
  {
   "cell_type": "code",
   "execution_count": null,
   "id": "e2d3f038",
   "metadata": {},
   "outputs": [],
   "source": [
    "print_regression_summary_from_model(model, X, y)"
   ]
  },
  {
   "cell_type": "code",
   "execution_count": null,
   "id": "3f0bc389",
   "metadata": {},
   "outputs": [],
   "source": [
    "plot_series(data, insample_forecasts.drop(\"y\"))"
   ]
  },
  {
   "cell_type": "code",
   "execution_count": null,
   "id": "f92a2436",
   "metadata": {},
   "outputs": [],
   "source": [
    "px.scatter(\n",
    "    x=insample_forecasts.get_column(\"y\"),\n",
    "    y=insample_forecasts.get_column(\"LinearRegression\"),\n",
    ").update_traces(marker=dict(size=5)).update_layout(\n",
    "    title=\"Real vs In-sample forecast\",\n",
    "    xaxis_title=\"Real\",\n",
    "    yaxis_title=\"In-sample forecast\",\n",
    ")"
   ]
  },
  {
   "cell_type": "code",
   "execution_count": null,
   "id": "fd98faa2",
   "metadata": {},
   "outputs": [],
   "source": [
    "residuals = get_fitted_residuals(mf)\n",
    "residuals = residuals.get_column(\"LinearRegression\")\n",
    "ds = data.get_column(time_)\n",
    "plot_residuals_diagnostic(\n",
    "    residuals=residuals,\n",
    "    time=ds,\n",
    ")"
   ]
  },
  {
   "cell_type": "code",
   "execution_count": null,
   "id": "c0a39657",
   "metadata": {},
   "outputs": [],
   "source": [
    "acorr_ljungbox(residuals, lags=[10])"
   ]
  },
  {
   "cell_type": "code",
   "execution_count": null,
   "id": "f704c0ed",
   "metadata": {},
   "outputs": [],
   "source": [
    "fig = px.scatter(x=data.get_column(temp_), y=residuals)\n",
    "fig.update_layout(\n",
    "    title=\"Scatter Plot of Residuals vs Temperature\",\n",
    "    xaxis_title=\"Temperature\",\n",
    "    yaxis_title=\"Residuals\",\n",
    "    template=\"plotly_white\",\n",
    "    width=800,\n",
    "    height=600,\n",
    "    showlegend=False,\n",
    ")\n",
    "fig.show()"
   ]
  },
  {
   "cell_type": "code",
   "execution_count": null,
   "id": "b544f116",
   "metadata": {},
   "outputs": [],
   "source": [
    "fig = px.scatter(x=insample_forecasts.get_column(\"LinearRegression\"), y=residuals)\n",
    "fig.update_layout(\n",
    "    title=\"Scatter Plot of Residuals vs Fitted Values\",\n",
    "    xaxis_title=\"Fitted Values\",\n",
    "    yaxis_title=\"Residuals\",\n",
    "    template=\"plotly_white\",\n",
    "    width=800,\n",
    "    height=600,\n",
    "    showlegend=False,\n",
    ")\n",
    "fig.show()"
   ]
  },
  {
   "cell_type": "code",
   "execution_count": null,
   "id": "d8fb5e97",
   "metadata": {},
   "outputs": [],
   "source": [
    "evaluate(\n",
    "    insample_forecasts,\n",
    "    metrics=metrics,\n",
    "    train_df=data.select([id_, time_, target_]),\n",
    ")"
   ]
  },
  {
   "cell_type": "code",
   "execution_count": null,
   "id": "fba57963",
   "metadata": {},
   "outputs": [],
   "source": [
    "mf = MLForecast(models=LinearRegression(), freq=\"30m\")\n",
    "\n",
    "y_hat = mf.cross_validation(\n",
    "    df=data_fourier,\n",
    "    h=48 * 7,\n",
    "    step_size=1,\n",
    "    n_windows=1,\n",
    "    fitted=True,\n",
    "    static_features=[],\n",
    ").drop(\"cutoff\")"
   ]
  },
  {
   "cell_type": "code",
   "execution_count": null,
   "id": "619395b0",
   "metadata": {},
   "outputs": [],
   "source": [
    "evaluate(\n",
    "    y_hat,\n",
    "    metrics=metrics,\n",
    "    train_df=data_fourier,\n",
    ")"
   ]
  },
  {
   "cell_type": "code",
   "execution_count": null,
   "id": "0012f3b5",
   "metadata": {},
   "outputs": [],
   "source": [
    "plot_series(data, y_hat, max_insample_length=48 * 7)"
   ]
  },
  {
   "cell_type": "code",
   "execution_count": null,
   "id": "5582c8d6",
   "metadata": {},
   "outputs": [],
   "source": [
    "sf = StatsForecast(\n",
    "    models=[AutoARIMA(max_d=0, seasonal=False, nmodels=20, max_p=3, max_q=3)],\n",
    "    freq=\"30m\",\n",
    ")\n",
    "\n",
    "sf.fit(data_fourier)"
   ]
  },
  {
   "cell_type": "code",
   "execution_count": null,
   "id": "30ff2b71",
   "metadata": {},
   "outputs": [],
   "source": [
    "print_arima_fitted_summary(sf.fitted_[0, 0].model_)"
   ]
  },
  {
   "cell_type": "code",
   "execution_count": null,
   "id": "8f59032d",
   "metadata": {},
   "outputs": [],
   "source": [
    "residuals = sf.fitted_[0, 0].model_[\"residuals\"]\n",
    "time = data_fourier[\"ds\"]\n",
    "\n",
    "plot_residuals_diagnostic(\n",
    "    residuals=residuals,\n",
    "    time=time,\n",
    ")"
   ]
  },
  {
   "cell_type": "code",
   "execution_count": null,
   "id": "c521a4db",
   "metadata": {},
   "outputs": [],
   "source": [
    "# dynamic regression with temperature and fourier series\n",
    "# forecast method with regression: direct / recursive / dirrec"
   ]
  }
 ],
 "metadata": {
  "kernelspec": {
   "display_name": ".venv",
   "language": "python",
   "name": "python3"
  },
  "language_info": {
   "codemirror_mode": {
    "name": "ipython",
    "version": 3
   },
   "file_extension": ".py",
   "mimetype": "text/x-python",
   "name": "python",
   "nbconvert_exporter": "python",
   "pygments_lexer": "ipython3",
   "version": "3.12.8"
  }
 },
 "nbformat": 4,
 "nbformat_minor": 5
}
