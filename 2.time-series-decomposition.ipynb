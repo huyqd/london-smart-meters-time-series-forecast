{
 "cells": [
  {
   "cell_type": "code",
   "execution_count": null,
   "id": "e27cdc1b",
   "metadata": {},
   "outputs": [],
   "source": [
    "import polars as pl\n",
    "import plotly.express as px\n",
    "import seaborn as sns\n",
    "from utilsforecast.plotting import plot_series\n",
    "from statsforecast import StatsForecast\n",
    "from mlforecast import MLForecast\n",
    "from mlforecast.lag_transforms import RollingMean\n",
    "from plotly.subplots import make_subplots\n",
    "import pandas as pd\n",
    "\n",
    "import plotly.graph_objects as go\n"
   ]
  },
  {
   "cell_type": "code",
   "execution_count": null,
   "id": "9ded1fc3",
   "metadata": {},
   "outputs": [],
   "source": [
    "data = pl.read_parquet(\n",
    "    \"data/london_smart_meters/preprocessed/london_smart_meters_merged_block_0-7.parquet\"\n",
    ")\n",
    "timestamp = data.group_by(\"LCLid\").agg(\n",
    "    pl.datetime_range(\n",
    "        start=pl.col(\"start_timestamp\"),\n",
    "        end=pl.col(\"start_timestamp\").dt.offset_by(\n",
    "            pl.format(\"{}m\", pl.col(\"series_length\").sub(1).mul(30))\n",
    "        ),\n",
    "        interval=\"30m\",\n",
    "    ).alias(\"ds\"),\n",
    ")\n",
    "data = timestamp.join(data, on=\"LCLid\", how=\"inner\").rename(\n",
    "    {\"LCLid\": \"unique_id\", \"energy_consumption\": \"y\"}\n",
    ")\n",
    "data.head(5)"
   ]
  },
  {
   "cell_type": "code",
   "execution_count": null,
   "id": "1cf22c4b",
   "metadata": {},
   "outputs": [],
   "source": [
    "id_ = \"unique_id\"\n",
    "time_ = \"ds\"\n",
    "target_ = \"y\"\n",
    "id_col = pl.col(id_)\n",
    "time_col = pl.col(time_)\n",
    "target_col = pl.col(target_)"
   ]
  },
  {
   "cell_type": "code",
   "execution_count": null,
   "id": "c7f041ca",
   "metadata": {},
   "outputs": [],
   "source": [
    "data = (\n",
    "    data.filter(pl.col(\"file\").eq(\"block_7\"))\n",
    "    .select(\n",
    "        [\n",
    "            time_,\n",
    "            id_,\n",
    "            target_,\n",
    "            \"Acorn\",\n",
    "            \"Acorn_grouped\",\n",
    "            \"holidays\",\n",
    "            \"visibility\",\n",
    "            \"windBearing\",\n",
    "            \"temperature\",\n",
    "            \"dewPoint\",\n",
    "            \"pressure\",\n",
    "            \"apparentTemperature\",\n",
    "            \"windSpeed\",\n",
    "            \"precipType\",\n",
    "            \"icon\",\n",
    "            \"humidity\",\n",
    "            \"summary\",\n",
    "        ]\n",
    "    )\n",
    "    .explode(\n",
    "        [\n",
    "            time_,\n",
    "            target_,\n",
    "            \"holidays\",\n",
    "            \"visibility\",\n",
    "            \"windBearing\",\n",
    "            \"temperature\",\n",
    "            \"dewPoint\",\n",
    "            \"pressure\",\n",
    "            \"apparentTemperature\",\n",
    "            \"windSpeed\",\n",
    "            \"precipType\",\n",
    "            \"icon\",\n",
    "            \"humidity\",\n",
    "            \"summary\",\n",
    "        ]\n",
    "    )\n",
    ")\n",
    "data.head()"
   ]
  },
  {
   "cell_type": "code",
   "execution_count": null,
   "id": "1a5c2e92",
   "metadata": {},
   "outputs": [],
   "source": [
    "sns.heatmap(\n",
    "    data.select(time_, id_, target_)\n",
    "    .to_pandas()\n",
    "    .pivot(index=\"ds\", columns=\"unique_id\", values=\"y\")\n",
    "    .isnull(),\n",
    "    cbar=False,\n",
    "    cmap=\"viridis\",\n",
    ")\n"
   ]
  },
  {
   "cell_type": "code",
   "execution_count": null,
   "id": "dad516b9",
   "metadata": {},
   "outputs": [],
   "source": [
    "data = data.filter(target_col.is_null().sum().over(id_).lt(100)).with_columns(\n",
    "    target_col.forward_fill().over(id_col)\n",
    ")"
   ]
  },
  {
   "cell_type": "code",
   "execution_count": null,
   "id": "9a22783c",
   "metadata": {},
   "outputs": [],
   "source": [
    "selected_ids = data.select(pl.col(id_).unique().sample(6)).to_numpy().flatten()"
   ]
  },
  {
   "cell_type": "code",
   "execution_count": null,
   "id": "dcb5d1f6",
   "metadata": {},
   "outputs": [],
   "source": [
    "selected_id = \"MAC000193\""
   ]
  },
  {
   "cell_type": "code",
   "execution_count": null,
   "id": "7c4a074c",
   "metadata": {},
   "outputs": [],
   "source": [
    "plot_series(\n",
    "    data,\n",
    "    ids=selected_ids,\n",
    "    engine=\"plotly\",\n",
    "    max_insample_length=1000,\n",
    ")"
   ]
  },
  {
   "cell_type": "code",
   "execution_count": null,
   "id": "c77939c1",
   "metadata": {},
   "outputs": [],
   "source": [
    "plot_series(\n",
    "    data.with_columns(target_col.rolling_mean(48 * 30).over(\"unique_id\")).drop_nulls(),\n",
    "    plot_random=True,\n",
    "    max_ids=6,\n",
    "    engine=\"plotly\",\n",
    "    # seed=47,\n",
    ")"
   ]
  },
  {
   "cell_type": "code",
   "execution_count": null,
   "id": "43ba98cf",
   "metadata": {},
   "outputs": [],
   "source": [
    "def plot_with_exogneous(data, exogenous_name: str):\n",
    "    # Create a subplot with secondary y-axis\n",
    "    fig = make_subplots(specs=[[{\"secondary_y\": True}]])\n",
    "\n",
    "    # Add y column to the primary y-axis\n",
    "    fig.add_trace(\n",
    "        go.Scatter(x=data[\"ds\"], y=data[\"y\"], name=\"y\"),\n",
    "        secondary_y=False,\n",
    "    )\n",
    "\n",
    "    # Add temperature column to the secondary y-axis\n",
    "    fig.add_trace(\n",
    "        go.Scatter(\n",
    "            x=data[\"ds\"],\n",
    "            y=data[exogenous_name],\n",
    "            name=exogenous_name,\n",
    "        ),\n",
    "        secondary_y=True,\n",
    "    )\n",
    "\n",
    "    # Update layout\n",
    "    fig.update_layout(\n",
    "        title_text=f\"Energy consumption and {exogenous_name} for {selected_id} (12.1.2013 - 15.1.2013)\",\n",
    "        xaxis_title=\"Timestamp\",\n",
    "    )\n",
    "\n",
    "    # Set y-axis titles\n",
    "    fig.update_yaxes(title_text=\"Energy Consumption\", secondary_y=False)\n",
    "    fig.update_yaxes(title_text=exogenous_name, secondary_y=True)\n",
    "\n",
    "    fig.show()"
   ]
  },
  {
   "cell_type": "code",
   "execution_count": null,
   "id": "02a0830b",
   "metadata": {},
   "outputs": [],
   "source": [
    "# Filter the data for the selected_id\n",
    "filtered_data = (\n",
    "    data.filter(pl.col(\"unique_id\") == selected_id)\n",
    "    .select([\"ds\", \"y\", \"temperature\"])\n",
    "    .with_columns(\n",
    "        time_col.dt.month().alias(\"month\"),\n",
    "        time_col.dt.year().alias(\"year\"),\n",
    "        time_col.dt.day().alias(\"day\"),\n",
    "        time_col.dt.hour().alias(\"hour\"),\n",
    "        time_col.dt.weekday().alias(\"weekday\"),\n",
    "    )\n",
    ")\n",
    "\n",
    "\n",
    "plot_with_exogneous(filtered_data, \"temperature\")"
   ]
  },
  {
   "cell_type": "code",
   "execution_count": null,
   "id": "3005506a",
   "metadata": {},
   "outputs": [],
   "source": [
    "# Filter the data for the specified date range\n",
    "start_date = pd.Timestamp(\"2013-01-12\")\n",
    "end_date = pd.Timestamp(\"2013-01-15\")\n",
    "filtered_data_range = filtered_data.filter(\n",
    "    time_col.is_between(pl.lit(start_date), pl.lit(end_date))\n",
    ")\n",
    "\n",
    "plot_with_exogneous(filtered_data_range, exogenous_name=\"temperature\")"
   ]
  },
  {
   "cell_type": "code",
   "execution_count": null,
   "id": "63440a19",
   "metadata": {},
   "outputs": [],
   "source": [
    "year_month = (\n",
    "    filtered_data.group_by([\"year\", \"month\"]).agg(\n",
    "        pl.mean([\"y\", \"temperature\"]), pl.first(\"ds\")\n",
    "    )\n",
    ").sort([\"year\", \"month\"])\n",
    "\n",
    "plot_with_exogneous(year_month, exogenous_name=\"temperature\")"
   ]
  },
  {
   "cell_type": "code",
   "execution_count": null,
   "id": "fb74494f",
   "metadata": {},
   "outputs": [],
   "source": [
    "month_agg = (\n",
    "    filtered_data.group_by([\"year\", \"month\"]).agg(pl.mean([\"y\"]), pl.first(\"ds\"))\n",
    ").sort(\"year\", \"month\")\n",
    "\n",
    "px.line(\n",
    "    month_agg.to_pandas(),\n",
    "    x=\"month\",\n",
    "    y=\"y\",\n",
    "    color=\"year\",\n",
    "    title=\"Monthly Aggregated Mean of y\",\n",
    "    labels={\"month\": \"Month\", \"y_mean\": \"Mean y\"},\n",
    ").show()"
   ]
  },
  {
   "cell_type": "code",
   "execution_count": null,
   "id": "c7bbcd6a",
   "metadata": {},
   "outputs": [],
   "source": [
    "hour_agg = (\n",
    "    filtered_data.group_by([\"day\", \"hour\"])\n",
    "    .agg(pl.mean([\"y\"]), pl.first(\"weekday\"))\n",
    "    .sort([\"day\", \"hour\"])\n",
    ")\n",
    "\n",
    "px.line(\n",
    "    hour_agg,\n",
    "    x=\"hour\",\n",
    "    y=\"y\",\n",
    "    color=\"day\",\n",
    "    title=\"Hourly Aggregated Mean of y\",\n",
    "    labels={\"ds\": \"Timestamp\", \"y_mean\": \"Mean y\"},\n",
    ").show()"
   ]
  },
  {
   "cell_type": "code",
   "execution_count": null,
   "id": "21d896b0",
   "metadata": {},
   "outputs": [],
   "source": [
    "px.box(\n",
    "    hour_agg,\n",
    "    x=\"hour\",\n",
    "    y=\"y\",\n",
    "    title=\"Hourly Aggregated Distribution of y\",\n",
    "    labels={\"hour\": \"Hour\", \"y\": \"y\"},\n",
    ").show()"
   ]
  },
  {
   "cell_type": "code",
   "execution_count": null,
   "id": "06943118",
   "metadata": {},
   "outputs": [],
   "source": [
    "fig = px.box(\n",
    "    hour_agg,\n",
    "    x=\"hour\",\n",
    "    y=\"y\",\n",
    "    title=\"Hourly Aggregated Distribution of y\",\n",
    "    facet_col=\"weekday\",\n",
    "    facet_col_wrap=2,\n",
    "    labels={\"hour\": \"Hour\", \"y\": \"y\"},\n",
    ")\n",
    "fig.update_layout(height=800, width=1200)\n",
    "fig.show()"
   ]
  },
  {
   "cell_type": "code",
   "execution_count": null,
   "id": "dadc37c7",
   "metadata": {},
   "outputs": [],
   "source": [
    "weekday_hour_hm = (\n",
    "    filtered_data.pivot(\n",
    "        on=\"hour\",\n",
    "        index=\"weekday\",\n",
    "        values=\"y\",\n",
    "        aggregate_function=\"mean\",\n",
    "    )\n",
    "    .sort(\"weekday\")\n",
    "    .to_pandas()\n",
    "    .set_index(\"weekday\")\n",
    ")\n",
    "fig = px.imshow(\n",
    "    weekday_hour_hm, height=600, title=\"Energy Consumption: Hours vs Week Day\"\n",
    ")\n",
    "fig.show()"
   ]
  },
  {
   "cell_type": "code",
   "execution_count": null,
   "id": "8e33ac46",
   "metadata": {},
   "outputs": [],
   "source": [
    "year_month_hm = (\n",
    "    filtered_data.pivot(\n",
    "        on=\"month\",\n",
    "        index=\"year\",\n",
    "        values=\"y\",\n",
    "        aggregate_function=\"mean\",\n",
    "    )\n",
    "    .sort(\"year\")\n",
    "    .cast({\"year\": pl.String})\n",
    "    .to_pandas()\n",
    "    .set_index(\"year\")\n",
    ")\n",
    "fig = px.imshow(year_month_hm, height=600, title=\"Energy Consumption: Month vs Year\")\n",
    "fig.show()"
   ]
  },
  {
   "cell_type": "code",
   "execution_count": null,
   "id": "f883661b",
   "metadata": {},
   "outputs": [],
   "source": [
    "year_month_hm = (\n",
    "    filtered_data.pivot(\n",
    "        on=\"month\",\n",
    "        index=\"year\",\n",
    "        values=\"temperature\",\n",
    "        aggregate_function=\"mean\",\n",
    "    )\n",
    "    .sort(\"year\")\n",
    "    .cast({\"year\": pl.String})\n",
    "    .to_pandas()\n",
    "    .set_index(\"year\")\n",
    ")\n",
    "fig = px.imshow(year_month_hm, height=600, title=\"Temperature: Month vs Year\")\n",
    "fig.show()"
   ]
  }
 ],
 "metadata": {
  "kernelspec": {
   "display_name": ".venv",
   "language": "python",
   "name": "python3"
  },
  "language_info": {
   "codemirror_mode": {
    "name": "ipython",
    "version": 3
   },
   "file_extension": ".py",
   "mimetype": "text/x-python",
   "name": "python",
   "nbconvert_exporter": "python",
   "pygments_lexer": "ipython3",
   "version": "3.12.8"
  }
 },
 "nbformat": 4,
 "nbformat_minor": 5
}
