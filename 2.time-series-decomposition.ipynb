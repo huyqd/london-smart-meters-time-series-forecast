{
 "cells": [
  {
   "cell_type": "code",
   "execution_count": null,
   "id": "e27cdc1b",
   "metadata": {},
   "outputs": [],
   "source": [
    "import polars as pl\n",
    "import plotly.express as px\n",
    "import seaborn as sns\n",
    "from utilsforecast.plotting import plot_series\n",
    "from statsforecast import StatsForecast\n",
    "from mlforecast import MLForecast\n",
    "from mlforecast.lag_transforms import RollingMean\n",
    "from utilsforecast.losses import *\n",
    "from utilsforecast.evaluation import evaluate\n",
    "from statsmodels.tsa.seasonal import STL, seasonal_decompose, MSTL\n",
    "from coreforecast.scalers import boxcox, boxcox_lambda\n",
    "from plotly.subplots import make_subplots\n",
    "import pandas as pd\n",
    "import numpy as np\n",
    "\n",
    "import plotly.graph_objects as go\n",
    "from tsfeatures import acf_features, tsfeatures, stl_features\n"
   ]
  },
  {
   "cell_type": "code",
   "execution_count": null,
   "id": "a1207eea",
   "metadata": {},
   "outputs": [],
   "source": [
    "from plotly.subplots import make_subplots\n",
    "import plotly.graph_objects as go\n",
    "\n",
    "\n",
    "def decomposition_plot(ts_index, observed=None, seasonal=None, trend=None, resid=None):\n",
    "    \"\"\"Plots the decomposition output\"\"\"\n",
    "    series = []\n",
    "    if observed is not None:\n",
    "        series += [\"Original\"]\n",
    "    if trend is not None:\n",
    "        series += [\"Trend\"]\n",
    "    if seasonal is not None:\n",
    "        series += [\"Seasonal\"]\n",
    "    if resid is not None:\n",
    "        series += [\"Residual\"]\n",
    "    if len(series) == 0:\n",
    "        raise ValueError(\n",
    "            \"All component flags were off. Need atleast one of the flags turned on to plot.\"\n",
    "        )\n",
    "    fig = make_subplots(\n",
    "        rows=len(series), cols=1, shared_xaxes=True, subplot_titles=series\n",
    "    )\n",
    "    x = ts_index\n",
    "    row = 1\n",
    "    if observed is not None:\n",
    "        fig.append_trace(go.Scatter(x=x, y=observed, name=\"Original\"), row=row, col=1)\n",
    "        row += 1\n",
    "    if trend is not None:\n",
    "        fig.append_trace(go.Scatter(x=x, y=trend, name=\"Trend\"), row=row, col=1)\n",
    "        row += 1\n",
    "    if seasonal is not None:\n",
    "        fig.append_trace(\n",
    "            go.Scatter(x=x, y=seasonal, name=\"Seasonal\"),\n",
    "            row=row,\n",
    "            col=1,\n",
    "        )\n",
    "        row += 1\n",
    "    if resid is not None:\n",
    "        fig.append_trace(go.Scatter(x=x, y=resid, name=\"Residual\"), row=row, col=1)\n",
    "        row += 1\n",
    "\n",
    "    fig.update_layout(\n",
    "        title_text=\"Seasonal Decomposition\",\n",
    "        autosize=False,\n",
    "        width=1200,\n",
    "        height=700,\n",
    "        title={\"x\": 0.5, \"xanchor\": \"center\", \"yanchor\": \"top\"},\n",
    "        legend_title=None,\n",
    "        showlegend=False,\n",
    "        legend=dict(\n",
    "            font=dict(size=15),\n",
    "            orientation=\"h\",\n",
    "            yanchor=\"bottom\",\n",
    "            y=0.98,\n",
    "            xanchor=\"right\",\n",
    "            x=1,\n",
    "        ),\n",
    "    )\n",
    "    return fig"
   ]
  },
  {
   "cell_type": "code",
   "execution_count": null,
   "id": "9ded1fc3",
   "metadata": {},
   "outputs": [],
   "source": [
    "data = pl.read_parquet(\n",
    "    \"data/london_smart_meters/preprocessed/london_smart_meters_merged_block_0-7.parquet\"\n",
    ")\n",
    "timestamp = data.group_by(\"LCLid\").agg(\n",
    "    pl.datetime_range(\n",
    "        start=pl.col(\"start_timestamp\"),\n",
    "        end=pl.col(\"start_timestamp\").dt.offset_by(\n",
    "            pl.format(\"{}m\", pl.col(\"series_length\").sub(1).mul(30))\n",
    "        ),\n",
    "        interval=\"30m\",\n",
    "    ).alias(\"ds\"),\n",
    ")\n",
    "data = timestamp.join(data, on=\"LCLid\", how=\"inner\").rename(\n",
    "    {\"LCLid\": \"unique_id\", \"energy_consumption\": \"y\"}\n",
    ")\n",
    "data.head(5)"
   ]
  },
  {
   "cell_type": "code",
   "execution_count": null,
   "id": "1cf22c4b",
   "metadata": {},
   "outputs": [],
   "source": [
    "id_ = \"unique_id\"\n",
    "time_ = \"ds\"\n",
    "target_ = \"y\"\n",
    "id_col = pl.col(id_)\n",
    "time_col = pl.col(time_)\n",
    "target_col = pl.col(target_)"
   ]
  },
  {
   "cell_type": "code",
   "execution_count": null,
   "id": "c7f041ca",
   "metadata": {},
   "outputs": [],
   "source": [
    "data = (\n",
    "    data.filter(pl.col(\"file\").eq(\"block_7\"))\n",
    "    .select(\n",
    "        [\n",
    "            time_,\n",
    "            id_,\n",
    "            target_,\n",
    "            \"Acorn\",\n",
    "            \"Acorn_grouped\",\n",
    "            \"holidays\",\n",
    "            \"visibility\",\n",
    "            \"windBearing\",\n",
    "            \"temperature\",\n",
    "            \"dewPoint\",\n",
    "            \"pressure\",\n",
    "            \"apparentTemperature\",\n",
    "            \"windSpeed\",\n",
    "            \"precipType\",\n",
    "            \"icon\",\n",
    "            \"humidity\",\n",
    "            \"summary\",\n",
    "        ]\n",
    "    )\n",
    "    .explode(\n",
    "        [\n",
    "            time_,\n",
    "            target_,\n",
    "            \"holidays\",\n",
    "            \"visibility\",\n",
    "            \"windBearing\",\n",
    "            \"temperature\",\n",
    "            \"dewPoint\",\n",
    "            \"pressure\",\n",
    "            \"apparentTemperature\",\n",
    "            \"windSpeed\",\n",
    "            \"precipType\",\n",
    "            \"icon\",\n",
    "            \"humidity\",\n",
    "            \"summary\",\n",
    "        ]\n",
    "    )\n",
    ")\n",
    "data.head()"
   ]
  },
  {
   "cell_type": "code",
   "execution_count": null,
   "id": "aee23d88",
   "metadata": {},
   "outputs": [],
   "source": [
    "selected_id = \"MAC000193\"\n",
    "data = data.filter(pl.col(id_).eq(selected_id))\n",
    "data.head()"
   ]
  },
  {
   "cell_type": "code",
   "execution_count": null,
   "id": "2840899a",
   "metadata": {},
   "outputs": [],
   "source": [
    "# decomposition following modern time series analysis, https://www.statsforecast.org/en/latest/ts_decomposition.html\n",
    "# decompose the time series into trend, seasonality and residuals\n",
    "# mstl\n",
    "# fourier series\n",
    "# strength of components"
   ]
  },
  {
   "cell_type": "code",
   "execution_count": null,
   "id": "29166a49",
   "metadata": {},
   "outputs": [],
   "source": [
    "plot_series(\n",
    "    data,\n",
    "    max_insample_length=1000,\n",
    "    engine=\"plotly\",\n",
    ")"
   ]
  },
  {
   "cell_type": "code",
   "execution_count": null,
   "id": "4fa8205d",
   "metadata": {},
   "outputs": [],
   "source": [
    "from statsmodels.tsa.seasonal import seasonal_decompose"
   ]
  },
  {
   "cell_type": "code",
   "execution_count": null,
   "id": "6ed20c7a",
   "metadata": {},
   "outputs": [],
   "source": [
    "res = seasonal_decompose(\n",
    "    data.select(target_col.forward_fill()),\n",
    "    period=7 * 48,\n",
    "    model=\"additive\",\n",
    "    extrapolate_trend=\"freq\",\n",
    "    filt=np.repeat(1 / (30 * 48), 30 * 48),\n",
    ")"
   ]
  },
  {
   "cell_type": "code",
   "execution_count": null,
   "id": "15d6dc80",
   "metadata": {},
   "outputs": [],
   "source": [
    "fig = decomposition_plot(\n",
    "    data.get_column(time_),\n",
    "    res.observed,\n",
    "    res.seasonal,\n",
    "    res.trend,\n",
    "    res.resid,\n",
    ")\n",
    "fig.show()"
   ]
  },
  {
   "cell_type": "code",
   "execution_count": null,
   "id": "c4959410",
   "metadata": {},
   "outputs": [],
   "source": [
    "observed = res.observed\n",
    "seasonal = res.seasonal\n",
    "seasonally_adjusted = observed - seasonal"
   ]
  },
  {
   "cell_type": "code",
   "execution_count": null,
   "id": "a2fe3759",
   "metadata": {},
   "outputs": [],
   "source": [
    "import plotly.graph_objects as go\n",
    "\n",
    "fig = go.Figure()\n",
    "\n",
    "# Add observed data\n",
    "fig.add_trace(\n",
    "    go.Scatter(\n",
    "        x=data.get_column(time_),\n",
    "        y=observed,\n",
    "        mode=\"lines\",\n",
    "        name=\"Observed\",\n",
    "    )\n",
    ")\n",
    "\n",
    "# Add seasonally adjusted data\n",
    "fig.add_trace(\n",
    "    go.Scatter(\n",
    "        x=data.get_column(time_),\n",
    "        y=seasonally_adjusted,\n",
    "        mode=\"lines\",\n",
    "        name=\"Seasonally Adjusted\",\n",
    "    )\n",
    ")\n",
    "\n",
    "# Update layout\n",
    "fig.update_layout(\n",
    "    title=\"Observed vs Seasonally Adjusted\",\n",
    "    xaxis_title=\"Time\",\n",
    "    yaxis_title=\"Value\",\n",
    "    autosize=False,\n",
    "    width=1200,\n",
    "    height=600,\n",
    "    legend=dict(\n",
    "        font=dict(size=12),\n",
    "        orientation=\"h\",\n",
    "        yanchor=\"bottom\",\n",
    "        y=1.02,\n",
    "        xanchor=\"right\",\n",
    "        x=1,\n",
    "    ),\n",
    ")\n",
    "fig.update_xaxes(type=\"date\", range=[\"2012-11-01\", \"2012-12-31\"])\n",
    "\n",
    "fig.show()"
   ]
  },
  {
   "cell_type": "markdown",
   "id": "e31871c3",
   "metadata": {},
   "source": [
    "- \"trend\" component indicates another seasonality components not captured"
   ]
  },
  {
   "cell_type": "code",
   "execution_count": null,
   "id": "6b00ecd9",
   "metadata": {},
   "outputs": [],
   "source": [
    "fig.update_xaxes(type=\"date\", range=[\"2012-11-4\", \"2012-12-4\"])"
   ]
  },
  {
   "cell_type": "markdown",
   "id": "5b67a7c6",
   "metadata": {},
   "source": [
    "- clear seasonality\n",
    "- residual is not whitenoise so there's some more pattern to be captured"
   ]
  },
  {
   "cell_type": "code",
   "execution_count": null,
   "id": "b97874c4",
   "metadata": {},
   "outputs": [],
   "source": [
    "stl = STL(\n",
    "    data.select(target_col.forward_fill()),\n",
    "    period=7 * 48,\n",
    ")\n",
    "res = stl.fit()"
   ]
  },
  {
   "cell_type": "code",
   "execution_count": null,
   "id": "9d22ed31",
   "metadata": {},
   "outputs": [],
   "source": [
    "fig = decomposition_plot(\n",
    "    data.get_column(time_),\n",
    "    res.observed.to_numpy().squeeze(),\n",
    "    res.seasonal,\n",
    "    res.trend,\n",
    "    res.resid,\n",
    ")\n",
    "fig.show()"
   ]
  },
  {
   "cell_type": "code",
   "execution_count": null,
   "id": "a4bfbb81",
   "metadata": {},
   "outputs": [],
   "source": [
    "fig.update_xaxes(type=\"date\", range=[\"2012-11-4\", \"2012-12-4\"])"
   ]
  },
  {
   "cell_type": "code",
   "execution_count": null,
   "id": "ccd98ec0",
   "metadata": {},
   "outputs": [],
   "source": [
    "stl = MSTL(\n",
    "    data.select(target_col.forward_fill()),\n",
    "    periods=[48, 7 * 48],\n",
    ")\n",
    "res = stl.fit()"
   ]
  },
  {
   "cell_type": "code",
   "execution_count": null,
   "id": "f6cfade0",
   "metadata": {},
   "outputs": [],
   "source": [
    "fig = decomposition_plot(\n",
    "    data.get_column(time_),\n",
    "    res.observed,\n",
    "    res.seasonal[:, 0],\n",
    "    res.trend,\n",
    "    res.resid,\n",
    ")\n",
    "fig.update_xaxes(type=\"date\", range=[\"2012-11-4\", \"2012-12-4\"])"
   ]
  },
  {
   "cell_type": "code",
   "execution_count": null,
   "id": "620f5a87",
   "metadata": {},
   "outputs": [],
   "source": [
    "fig = decomposition_plot(\n",
    "    data.get_column(time_),\n",
    "    res.observed,\n",
    "    res.seasonal[:, 1],\n",
    "    res.trend,\n",
    "    res.resid,\n",
    ")\n",
    "fig.update_xaxes(type=\"date\", range=[\"2012-11-4\", \"2012-12-4\"])"
   ]
  },
  {
   "cell_type": "code",
   "execution_count": null,
   "id": "922a34b8",
   "metadata": {},
   "outputs": [],
   "source": [
    "resdual_var = res.resid.var()\n",
    "trend_residual_var = (res.trend + res.resid).var()\n",
    "seasonal_residual_var = (res.seasonal + np.expand_dims(res.resid, axis=1)).var(axis=0)"
   ]
  },
  {
   "cell_type": "code",
   "execution_count": null,
   "id": "34b54f5a",
   "metadata": {},
   "outputs": [],
   "source": [
    "trend_strength = max(0, 1 - resdual_var / (trend_residual_var))\n",
    "seasonal_strength = 1 - resdual_var / (seasonal_residual_var)"
   ]
  },
  {
   "cell_type": "code",
   "execution_count": null,
   "id": "d3c930f3",
   "metadata": {},
   "outputs": [],
   "source": [
    "trend_strength"
   ]
  },
  {
   "cell_type": "code",
   "execution_count": null,
   "id": "77a8abf3",
   "metadata": {},
   "outputs": [],
   "source": [
    "seasonal_strength"
   ]
  },
  {
   "cell_type": "code",
   "execution_count": null,
   "id": "5dd44dd8",
   "metadata": {},
   "outputs": [],
   "source": [
    "tsfeatures(\n",
    "    data.select(target_col.forward_fill(), time_, id_).to_pandas(),\n",
    "    freq=7 * 48,\n",
    "    features=[stl_features],\n",
    ")"
   ]
  },
  {
   "cell_type": "code",
   "execution_count": null,
   "id": "13ab58f2",
   "metadata": {},
   "outputs": [],
   "source": [
    "tsfeatures(\n",
    "    data.select(target_col.forward_fill(), time_, id_).to_pandas(),\n",
    "    freq=48,\n",
    "    features=[stl_features],\n",
    ")"
   ]
  },
  {
   "cell_type": "code",
   "execution_count": null,
   "id": "a1466f07",
   "metadata": {},
   "outputs": [],
   "source": [
    "from statsmodels.nonparametric.smoothers_lowess import lowess"
   ]
  },
  {
   "cell_type": "code",
   "execution_count": null,
   "id": "a1a616ef",
   "metadata": {},
   "outputs": [],
   "source": [
    "y = data.select(target_col.forward_fill()).to_numpy().squeeze()\n",
    "trend = lowess(\n",
    "    y,\n",
    "    np.arange(len(y)),\n",
    "    frac=0.1,\n",
    "    it=0,\n",
    "    return_sorted=False,\n",
    ")"
   ]
  },
  {
   "cell_type": "code",
   "execution_count": null,
   "id": "8f9ed4e7",
   "metadata": {},
   "outputs": [],
   "source": [
    "px.line(y=[y, trend])"
   ]
  },
  {
   "cell_type": "code",
   "execution_count": null,
   "id": "af276210",
   "metadata": {},
   "outputs": [],
   "source": [
    "detrended = y - trend\n",
    "period = 7 * 48\n",
    "period_averages = np.array([np.nanmean(detrended[i::period]) for i in range(period)])\n",
    "period_averages -= np.mean(period_averages)\n",
    "seasonal = np.tile(period_averages, len(detrended) // period + 1)[: len(detrended)]"
   ]
  },
  {
   "cell_type": "code",
   "execution_count": null,
   "id": "f22693a3",
   "metadata": {},
   "outputs": [],
   "source": [
    "px.line(y=[trend, seasonal])"
   ]
  }
 ],
 "metadata": {
  "kernelspec": {
   "display_name": ".venv",
   "language": "python",
   "name": "python3"
  },
  "language_info": {
   "codemirror_mode": {
    "name": "ipython",
    "version": 3
   },
   "file_extension": ".py",
   "mimetype": "text/x-python",
   "name": "python",
   "nbconvert_exporter": "python",
   "pygments_lexer": "ipython3",
   "version": "3.12.8"
  }
 },
 "nbformat": 4,
 "nbformat_minor": 5
}
