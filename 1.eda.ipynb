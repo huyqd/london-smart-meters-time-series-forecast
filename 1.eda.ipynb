{
 "cells": [
  {
   "cell_type": "code",
   "execution_count": null,
   "id": "e27cdc1b",
   "metadata": {},
   "outputs": [],
   "source": [
    "import polars as pl\n",
    "import pandas as pd\n",
    "import plotly.express as px\n",
    "from utilsforecast.plotting import plot_series"
   ]
  },
  {
   "cell_type": "code",
   "execution_count": null,
   "id": "9ded1fc3",
   "metadata": {},
   "outputs": [],
   "source": [
    "data = pl.read_parquet(\n",
    "    \"data/london_smart_meters/preprocessed/london_smart_meters_merged_block_0-7.parquet\"\n",
    ")\n",
    "timestamp = data.group_by(\"LCLid\").agg(\n",
    "    pl.datetime_range(\n",
    "        start=pl.col(\"start_timestamp\"),\n",
    "        end=pl.col(\"start_timestamp\").dt.offset_by(\n",
    "            pl.format(\"{}m\", pl.col(\"series_length\").sub(1).mul(30))\n",
    "        ),\n",
    "        interval=\"30m\",\n",
    "    ).alias(\"timestamp\"),\n",
    ")\n",
    "data = timestamp.join(data, on=\"LCLid\", how=\"inner\")\n",
    "data.head(5)"
   ]
  },
  {
   "cell_type": "code",
   "execution_count": null,
   "id": "c7f041ca",
   "metadata": {},
   "outputs": [],
   "source": [
    "data = (\n",
    "    data.filter(pl.col(\"file\").eq(\"block_7\"))\n",
    "    .select(\n",
    "        [\n",
    "            \"LCLid\",\n",
    "            \"Acorn\",\n",
    "            \"Acorn_grouped\",\n",
    "            \"timestamp\",\n",
    "            \"energy_consumption\",\n",
    "            \"holidays\",\n",
    "            \"visibility\",\n",
    "            \"windBearing\",\n",
    "            \"temperature\",\n",
    "            \"dewPoint\",\n",
    "            \"pressure\",\n",
    "            \"apparentTemperature\",\n",
    "            \"windSpeed\",\n",
    "            \"precipType\",\n",
    "            \"icon\",\n",
    "            \"humidity\",\n",
    "            \"summary\",\n",
    "        ]\n",
    "    )\n",
    "    .explode(\n",
    "        [\n",
    "            \"timestamp\",\n",
    "            \"energy_consumption\",\n",
    "            \"holidays\",\n",
    "            \"visibility\",\n",
    "            \"windBearing\",\n",
    "            \"temperature\",\n",
    "            \"dewPoint\",\n",
    "            \"pressure\",\n",
    "            \"apparentTemperature\",\n",
    "            \"windSpeed\",\n",
    "            \"precipType\",\n",
    "            \"icon\",\n",
    "            \"humidity\",\n",
    "            \"summary\",\n",
    "        ]\n",
    "    )\n",
    ")"
   ]
  }
 ],
 "metadata": {
  "kernelspec": {
   "display_name": ".venv",
   "language": "python",
   "name": "python3"
  },
  "language_info": {
   "codemirror_mode": {
    "name": "ipython",
    "version": 3
   },
   "file_extension": ".py",
   "mimetype": "text/x-python",
   "name": "python",
   "nbconvert_exporter": "python",
   "pygments_lexer": "ipython3",
   "version": "3.12.8"
  }
 },
 "nbformat": 4,
 "nbformat_minor": 5
}
